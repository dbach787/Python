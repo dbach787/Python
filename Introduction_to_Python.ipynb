{
  "nbformat": 4,
  "nbformat_minor": 0,
  "metadata": {
    "colab": {
      "name": "Introduction to Python.ipynb",
      "provenance": [],
      "authorship_tag": "ABX9TyO7HAlP1TIYxCQGBfwfiZgM",
      "include_colab_link": true
    },
    "kernelspec": {
      "name": "python3",
      "display_name": "Python 3"
    }
  },
  "cells": [
    {
      "cell_type": "markdown",
      "metadata": {
        "id": "view-in-github",
        "colab_type": "text"
      },
      "source": [
        "<a href=\"https://colab.research.google.com/github/dbach787/Python/blob/master/Introduction_to_Python.ipynb\" target=\"_parent\"><img src=\"https://colab.research.google.com/assets/colab-badge.svg\" alt=\"Open In Colab\"/></a>"
      ]
    },
    {
      "cell_type": "markdown",
      "metadata": {
        "id": "XJixniiVU5WC",
        "colab_type": "text"
      },
      "source": [
        "# Welcome To Python!\n",
        "Let's start with the basics.  In this class we will learn about variables and the print function."
      ]
    },
    {
      "cell_type": "code",
      "metadata": {
        "id": "uJyACHOCTMVG",
        "colab_type": "code",
        "outputId": "3581585a-7521-4917-fed8-03f985eaca7b",
        "colab": {
          "base_uri": "https://localhost:8080/",
          "height": 34
        }
      },
      "source": [
        "#This is a comment\n",
        "x = \"Hello there\"\n",
        "print(x)"
      ],
      "execution_count": 0,
      "outputs": [
        {
          "output_type": "stream",
          "text": [
            "Hello there\n"
          ],
          "name": "stdout"
        }
      ]
    },
    {
      "cell_type": "code",
      "metadata": {
        "id": "w6H2gN37WPpO",
        "colab_type": "code",
        "outputId": "2d24a56b-8b42-4354-869c-bb1055a0a54a",
        "colab": {
          "base_uri": "https://localhost:8080/",
          "height": 170
        }
      },
      "source": [
        "#Math operations\n",
        "x=1\n",
        "y=2\n",
        "z=3\n",
        "print(x+y)\n",
        "print(x-y)\n",
        "print(x*y)\n",
        "print(x/y)\n",
        "print(x^y)\n",
        "print((x+y)/z) #Order of operations\n",
        "print(y/z) #Floating point number\n",
        "print(z%y) #Modulus, what is the remainder of the division?\n",
        "print(abs(-2))"
      ],
      "execution_count": 0,
      "outputs": [
        {
          "output_type": "stream",
          "text": [
            "3\n",
            "-1\n",
            "2\n",
            "0.5\n",
            "3\n",
            "1.0\n",
            "0.6666666666666666\n",
            "1\n",
            "2\n"
          ],
          "name": "stdout"
        }
      ]
    },
    {
      "cell_type": "markdown",
      "metadata": {
        "id": "d69czcK7ZAz2",
        "colab_type": "text"
      },
      "source": [
        "# Assigning values to variables"
      ]
    },
    {
      "cell_type": "code",
      "metadata": {
        "id": "3twQqA0FZHLx",
        "colab_type": "code",
        "outputId": "67507a9c-0b18-4b81-82e8-ed9b63e10ac1",
        "colab": {
          "base_uri": "https://localhost:8080/",
          "height": 34
        }
      },
      "source": [
        "price=14.95\n",
        "quantity=10\n",
        "cost=price*quantity\n",
        "print(cost)"
      ],
      "execution_count": 0,
      "outputs": [
        {
          "output_type": "stream",
          "text": [
            "149.5\n"
          ],
          "name": "stdout"
        }
      ]
    },
    {
      "cell_type": "markdown",
      "metadata": {
        "id": "GK0sXZblZt2q",
        "colab_type": "text"
      },
      "source": [
        "# Name Errors"
      ]
    },
    {
      "cell_type": "code",
      "metadata": {
        "id": "X7Ei3NAbZxVQ",
        "colab_type": "code",
        "outputId": "284aed7a-3e27-4280-8be5-474dfcf83a0b",
        "colab": {
          "base_uri": "https://localhost:8080/",
          "height": 200
        }
      },
      "source": [
        "#Variable names must match exactly.  Case sensitive\n",
        "price=5\n",
        "print(Price)"
      ],
      "execution_count": 0,
      "outputs": [
        {
          "output_type": "error",
          "ename": "NameError",
          "evalue": "ignored",
          "traceback": [
            "\u001b[0;31m---------------------------------------------------------------------------\u001b[0m",
            "\u001b[0;31mNameError\u001b[0m                                 Traceback (most recent call last)",
            "\u001b[0;32m<ipython-input-15-2d2e250796d7>\u001b[0m in \u001b[0;36m<module>\u001b[0;34m()\u001b[0m\n\u001b[1;32m      1\u001b[0m \u001b[0mprice\u001b[0m\u001b[0;34m=\u001b[0m\u001b[0;36m5\u001b[0m\u001b[0;34m\u001b[0m\u001b[0;34m\u001b[0m\u001b[0m\n\u001b[0;32m----> 2\u001b[0;31m \u001b[0mprint\u001b[0m\u001b[0;34m(\u001b[0m\u001b[0mPrice\u001b[0m\u001b[0;34m)\u001b[0m\u001b[0;34m\u001b[0m\u001b[0;34m\u001b[0m\u001b[0m\n\u001b[0m",
            "\u001b[0;31mNameError\u001b[0m: name 'Price' is not defined"
          ]
        }
      ]
    },
    {
      "cell_type": "markdown",
      "metadata": {
        "id": "N5EpzC_CaEhy",
        "colab_type": "text"
      },
      "source": [
        "# Re-assigning value"
      ]
    },
    {
      "cell_type": "code",
      "metadata": {
        "id": "AhiG8HtnaHoA",
        "colab_type": "code",
        "outputId": "dd725366-3af2-4ed9-f18b-fbd555935995",
        "colab": {
          "base_uri": "https://localhost:8080/",
          "height": 34
        }
      },
      "source": [
        "x=1\n",
        "x=5 #We have given x a new value\n",
        "print(x)"
      ],
      "execution_count": 0,
      "outputs": [
        {
          "output_type": "stream",
          "text": [
            "5\n"
          ],
          "name": "stdout"
        }
      ]
    },
    {
      "cell_type": "markdown",
      "metadata": {
        "id": "rBYSA_dZacRM",
        "colab_type": "text"
      },
      "source": [
        "# Boolean"
      ]
    },
    {
      "cell_type": "code",
      "metadata": {
        "id": "skklEZLHahYH",
        "colab_type": "code",
        "outputId": "90c2c554-b37f-443c-9031-41314bd877c8",
        "colab": {
          "base_uri": "https://localhost:8080/",
          "height": 51
        }
      },
      "source": [
        "z=True\n",
        "print(z)\n",
        "z=False\n",
        "print(z)"
      ],
      "execution_count": 0,
      "outputs": [
        {
          "output_type": "stream",
          "text": [
            "True\n",
            "False\n"
          ],
          "name": "stdout"
        }
      ]
    },
    {
      "cell_type": "markdown",
      "metadata": {
        "id": "hePJ-zTta9ki",
        "colab_type": "text"
      },
      "source": [
        "# If Statement"
      ]
    },
    {
      "cell_type": "code",
      "metadata": {
        "id": "-9m4p-DAbABs",
        "colab_type": "code",
        "outputId": "b2777363-67b9-483d-a34a-de91c6c917b7",
        "colab": {
          "base_uri": "https://localhost:8080/",
          "height": 34
        }
      },
      "source": [
        "x=1\n",
        "y=1\n",
        "\n",
        "if(x==y):\n",
        "  print(\"True\")"
      ],
      "execution_count": 0,
      "outputs": [
        {
          "output_type": "stream",
          "text": [
            "True\n"
          ],
          "name": "stdout"
        }
      ]
    },
    {
      "cell_type": "markdown",
      "metadata": {
        "id": "5466SLjCcQYu",
        "colab_type": "text"
      },
      "source": [
        "Greater than >, less than <"
      ]
    },
    {
      "cell_type": "code",
      "metadata": {
        "id": "pvSW_E9YcH7n",
        "colab_type": "code",
        "outputId": "bdbb7bee-e7d0-4f97-b919-306daa5a5fc5",
        "colab": {
          "base_uri": "https://localhost:8080/",
          "height": 34
        }
      },
      "source": [
        "x=1\n",
        "y=5\n",
        "\n",
        "if(x<y):\n",
        "  print(\"True\")"
      ],
      "execution_count": 0,
      "outputs": [
        {
          "output_type": "stream",
          "text": [
            "True\n"
          ],
          "name": "stdout"
        }
      ]
    },
    {
      "cell_type": "markdown",
      "metadata": {
        "id": "zwzN_KlNbUgS",
        "colab_type": "text"
      },
      "source": [
        "# If Else"
      ]
    },
    {
      "cell_type": "code",
      "metadata": {
        "id": "9RetLDt8bWhg",
        "colab_type": "code",
        "outputId": "80e45843-d2ba-4637-a562-d1fb9948215f",
        "colab": {
          "base_uri": "https://localhost:8080/",
          "height": 34
        }
      },
      "source": [
        "x=1\n",
        "y=2\n",
        "if(x==y):\n",
        "  print(\"Equal\")\n",
        "else:\n",
        "    print(\"Not Equal\")"
      ],
      "execution_count": 0,
      "outputs": [
        {
          "output_type": "stream",
          "text": [
            "Not Equal\n"
          ],
          "name": "stdout"
        }
      ]
    },
    {
      "cell_type": "markdown",
      "metadata": {
        "id": "ISks09-VksND",
        "colab_type": "text"
      },
      "source": [
        "# If Else If"
      ]
    },
    {
      "cell_type": "code",
      "metadata": {
        "id": "yacogmxYkvUW",
        "colab_type": "code",
        "outputId": "104ffc47-768d-47ab-ec13-bdb1f86f1c35",
        "colab": {
          "base_uri": "https://localhost:8080/",
          "height": 34
        }
      },
      "source": [
        "x=1\n",
        "y=2\n",
        "z=3\n",
        "\n",
        "if(x==y):\n",
        "  print(\"x equals y\")\n",
        "elif(x==z):\n",
        "  print(\"x equals z\")\n",
        "else:\n",
        "    print(\"x is not equal to y or z\")"
      ],
      "execution_count": 0,
      "outputs": [
        {
          "output_type": "stream",
          "text": [
            "x is not equal to y or z\n"
          ],
          "name": "stdout"
        }
      ]
    },
    {
      "cell_type": "markdown",
      "metadata": {
        "id": "TZ51txJlqNaU",
        "colab_type": "text"
      },
      "source": [
        "#And OR"
      ]
    },
    {
      "cell_type": "code",
      "metadata": {
        "id": "6vhY_ymtqQzO",
        "colab_type": "code",
        "outputId": "09dfe74a-51a9-4dde-af89-09b770e15227",
        "colab": {
          "base_uri": "https://localhost:8080/",
          "height": 34
        }
      },
      "source": [
        "a=1\n",
        "b=1\n",
        "c=1\n",
        "\n",
        "if(a==b and a==c):\n",
        "  print(\"a is equal to both b and c\")\n"
      ],
      "execution_count": 0,
      "outputs": [
        {
          "output_type": "stream",
          "text": [
            "a is equal to both b and c\n"
          ],
          "name": "stdout"
        }
      ]
    },
    {
      "cell_type": "code",
      "metadata": {
        "id": "ldj3aWonqmQ8",
        "colab_type": "code",
        "outputId": "aac10a5d-2988-4d52-d851-48fabe9d0a19",
        "colab": {
          "base_uri": "https://localhost:8080/",
          "height": 34
        }
      },
      "source": [
        "a=1\n",
        "b=1\n",
        "c=2\n",
        "\n",
        "if(a==b or a==c):\n",
        "  print(\"a is equal to either b or c\")"
      ],
      "execution_count": 0,
      "outputs": [
        {
          "output_type": "stream",
          "text": [
            "a is equal to both b and c\n"
          ],
          "name": "stdout"
        }
      ]
    },
    {
      "cell_type": "markdown",
      "metadata": {
        "id": "uO-CO4lJcsmG",
        "colab_type": "text"
      },
      "source": [
        "# Strings"
      ]
    },
    {
      "cell_type": "markdown",
      "metadata": {
        "id": "G16Oi2KpdEnG",
        "colab_type": "text"
      },
      "source": [
        "Concatenation"
      ]
    },
    {
      "cell_type": "code",
      "metadata": {
        "id": "Plvoqs8BcwD3",
        "colab_type": "code",
        "outputId": "ac244631-06eb-4a7e-df80-a4e8fd19097b",
        "colab": {
          "base_uri": "https://localhost:8080/",
          "height": 34
        }
      },
      "source": [
        "a=\"Hello\"\n",
        "b=\"there!\"\n",
        "print(a+ \" \" + b)"
      ],
      "execution_count": 0,
      "outputs": [
        {
          "output_type": "stream",
          "text": [
            "Hello there!\n"
          ],
          "name": "stdout"
        }
      ]
    },
    {
      "cell_type": "code",
      "metadata": {
        "id": "l0IwDuZNdRrc",
        "colab_type": "code",
        "outputId": "8cfbb7b0-3540-4d2e-838a-0359d0b9eb36",
        "colab": {
          "base_uri": "https://localhost:8080/",
          "height": 34
        }
      },
      "source": [
        "'a'*10"
      ],
      "execution_count": 0,
      "outputs": [
        {
          "output_type": "execute_result",
          "data": {
            "text/plain": [
              "'aaaaaaaaaa'"
            ]
          },
          "metadata": {
            "tags": []
          },
          "execution_count": 33
        }
      ]
    },
    {
      "cell_type": "markdown",
      "metadata": {
        "id": "ckNFLf4DdnVS",
        "colab_type": "text"
      },
      "source": [
        "# Built in functions"
      ]
    },
    {
      "cell_type": "markdown",
      "metadata": {
        "id": "dWXOr6KHeZVN",
        "colab_type": "text"
      },
      "source": [
        "Len() to determine the variable length"
      ]
    },
    {
      "cell_type": "code",
      "metadata": {
        "id": "FEnYEwdcdpCa",
        "colab_type": "code",
        "outputId": "8707b2f2-30d5-4790-9e0f-2fa495560f32",
        "colab": {
          "base_uri": "https://localhost:8080/",
          "height": 34
        }
      },
      "source": [
        "len(\"How long is this string?\")"
      ],
      "execution_count": 0,
      "outputs": [
        {
          "output_type": "execute_result",
          "data": {
            "text/plain": [
              "24"
            ]
          },
          "metadata": {
            "tags": []
          },
          "execution_count": 34
        }
      ]
    },
    {
      "cell_type": "markdown",
      "metadata": {
        "id": "4qe1DSeoeTH3",
        "colab_type": "text"
      },
      "source": [
        "Type() to determine the variable type"
      ]
    },
    {
      "cell_type": "code",
      "metadata": {
        "id": "bxCyo3m9dx9I",
        "colab_type": "code",
        "outputId": "fdc30870-f38c-413d-cb8b-41798645cb65",
        "colab": {
          "base_uri": "https://localhost:8080/",
          "height": 85
        }
      },
      "source": [
        "a=\"String\"\n",
        "b=1\n",
        "c=True\n",
        "d=3.14\n",
        "print(type(a))\n",
        "print(type(b))\n",
        "print(type(c))\n",
        "print(type(d))"
      ],
      "execution_count": 0,
      "outputs": [
        {
          "output_type": "stream",
          "text": [
            "<class 'str'>\n",
            "<class 'int'>\n",
            "<class 'bool'>\n",
            "<class 'float'>\n"
          ],
          "name": "stdout"
        }
      ]
    },
    {
      "cell_type": "markdown",
      "metadata": {
        "id": "xXv4tfTjjPoF",
        "colab_type": "text"
      },
      "source": [
        "## min() determine minimum value"
      ]
    },
    {
      "cell_type": "code",
      "metadata": {
        "id": "nhZO1-gWjVU8",
        "colab_type": "code",
        "outputId": "c99d83ee-b8a1-48d8-8849-4ae11729fd14",
        "colab": {
          "base_uri": "https://localhost:8080/",
          "height": 34
        }
      },
      "source": [
        "x = min(1, 2, 3)\n",
        "print(x)"
      ],
      "execution_count": 0,
      "outputs": [
        {
          "output_type": "stream",
          "text": [
            "1\n"
          ],
          "name": "stdout"
        }
      ]
    },
    {
      "cell_type": "markdown",
      "metadata": {
        "id": "Q1H1cFUnjflG",
        "colab_type": "text"
      },
      "source": [
        "## max() determine maximum value"
      ]
    },
    {
      "cell_type": "code",
      "metadata": {
        "id": "h12c0WmjjikW",
        "colab_type": "code",
        "outputId": "18646fd5-a68e-4304-b722-673acd329ee5",
        "colab": {
          "base_uri": "https://localhost:8080/",
          "height": 34
        }
      },
      "source": [
        "x = max(1, 2, 3)\n",
        "print(x)"
      ],
      "execution_count": 0,
      "outputs": [
        {
          "output_type": "stream",
          "text": [
            "3\n"
          ],
          "name": "stdout"
        }
      ]
    },
    {
      "cell_type": "markdown",
      "metadata": {
        "id": "9l5ZPouOemrg",
        "colab_type": "text"
      },
      "source": [
        "# Creating our own functions"
      ]
    },
    {
      "cell_type": "markdown",
      "metadata": {
        "id": "050Mq8XOe_wt",
        "colab_type": "text"
      },
      "source": [
        "We define with \"def\" give the function a name \"my_function\" and in this case our function is expecting an input of x.  Then the function returns the value of x*x"
      ]
    },
    {
      "cell_type": "code",
      "metadata": {
        "id": "2MGd52TderiB",
        "colab_type": "code",
        "outputId": "b223bb75-38ee-4565-b6fa-cdc3391d544a",
        "colab": {
          "base_uri": "https://localhost:8080/",
          "height": 34
        }
      },
      "source": [
        "def my_function(x):\n",
        "  return x*x\n",
        "\n",
        "print(my_function(3))"
      ],
      "execution_count": 0,
      "outputs": [
        {
          "output_type": "stream",
          "text": [
            "9\n"
          ],
          "name": "stdout"
        }
      ]
    },
    {
      "cell_type": "markdown",
      "metadata": {
        "id": "STbpcmdOvY7F",
        "colab_type": "text"
      },
      "source": [
        "###Multiple arguments"
      ]
    },
    {
      "cell_type": "code",
      "metadata": {
        "id": "GErgXlk2vcPT",
        "colab_type": "code",
        "outputId": "bd0f0a47-2684-4bb1-c410-afcbd13d6b22",
        "colab": {
          "base_uri": "https://localhost:8080/",
          "height": 34
        }
      },
      "source": [
        "def sumNumbers(a,b,c):\n",
        "  return a+b+c;\n",
        "\n",
        "print(sumNumbers(5,9,3))"
      ],
      "execution_count": 0,
      "outputs": [
        {
          "output_type": "stream",
          "text": [
            "17\n"
          ],
          "name": "stdout"
        }
      ]
    },
    {
      "cell_type": "markdown",
      "metadata": {
        "id": "qTw3ptMairPp",
        "colab_type": "text"
      },
      "source": [
        "# Changing variable type"
      ]
    },
    {
      "cell_type": "code",
      "metadata": {
        "id": "oOCw_5qKfugw",
        "colab_type": "code",
        "outputId": "f7ebceb4-0912-406f-b405-fbf04cce0e3f",
        "colab": {
          "base_uri": "https://localhost:8080/",
          "height": 200
        }
      },
      "source": [
        "a=\"55\"\n",
        "a+5"
      ],
      "execution_count": 0,
      "outputs": [
        {
          "output_type": "error",
          "ename": "TypeError",
          "evalue": "ignored",
          "traceback": [
            "\u001b[0;31m---------------------------------------------------------------------------\u001b[0m",
            "\u001b[0;31mTypeError\u001b[0m                                 Traceback (most recent call last)",
            "\u001b[0;32m<ipython-input-41-f56d67320d63>\u001b[0m in \u001b[0;36m<module>\u001b[0;34m()\u001b[0m\n\u001b[1;32m      1\u001b[0m \u001b[0ma\u001b[0m\u001b[0;34m=\u001b[0m\u001b[0;34m\"55\"\u001b[0m\u001b[0;34m\u001b[0m\u001b[0;34m\u001b[0m\u001b[0m\n\u001b[0;32m----> 2\u001b[0;31m \u001b[0ma\u001b[0m\u001b[0;34m+\u001b[0m\u001b[0;36m5\u001b[0m\u001b[0;34m\u001b[0m\u001b[0;34m\u001b[0m\u001b[0m\n\u001b[0m",
            "\u001b[0;31mTypeError\u001b[0m: must be str, not int"
          ]
        }
      ]
    },
    {
      "cell_type": "code",
      "metadata": {
        "id": "1FX6n-RfihXH",
        "colab_type": "code",
        "outputId": "8d18de0f-cb14-4321-b342-32e4afc1e8f4",
        "colab": {
          "base_uri": "https://localhost:8080/",
          "height": 34
        }
      },
      "source": [
        "int(a)+5\n"
      ],
      "execution_count": 0,
      "outputs": [
        {
          "output_type": "execute_result",
          "data": {
            "text/plain": [
              "60"
            ]
          },
          "metadata": {
            "tags": []
          },
          "execution_count": 43
        }
      ]
    },
    {
      "cell_type": "markdown",
      "metadata": {
        "id": "n1StckkOj9ed",
        "colab_type": "text"
      },
      "source": [
        "#Reading user input"
      ]
    },
    {
      "cell_type": "code",
      "metadata": {
        "id": "n4ERXp7XkB8m",
        "colab_type": "code",
        "outputId": "7cc9681c-0407-4b3f-f312-7201ac4e0629",
        "colab": {
          "base_uri": "https://localhost:8080/",
          "height": 34
        }
      },
      "source": [
        "x=input()"
      ],
      "execution_count": 0,
      "outputs": [
        {
          "output_type": "stream",
          "text": [
            "Something to say\n"
          ],
          "name": "stdout"
        }
      ]
    },
    {
      "cell_type": "code",
      "metadata": {
        "id": "kUywgz_NkZcM",
        "colab_type": "code",
        "outputId": "96e5ecd5-e4d6-4afe-b765-7c0e28230e7c",
        "colab": {
          "base_uri": "https://localhost:8080/",
          "height": 51
        }
      },
      "source": [
        "x=input(\"What is your name?\")\n",
        "print(x)"
      ],
      "execution_count": 0,
      "outputs": [
        {
          "output_type": "stream",
          "text": [
            "What is your name?Darryl\n",
            "Darryl\n"
          ],
          "name": "stdout"
        }
      ]
    },
    {
      "cell_type": "markdown",
      "metadata": {
        "id": "SQPL61vplSTY",
        "colab_type": "text"
      },
      "source": [
        "#Modules"
      ]
    },
    {
      "cell_type": "markdown",
      "metadata": {
        "id": "IT6_XkGklk67",
        "colab_type": "text"
      },
      "source": [
        "## Viewing help to see what a module can do"
      ]
    },
    {
      "cell_type": "markdown",
      "metadata": {
        "id": "PTF1dn29lu7V",
        "colab_type": "text"
      },
      "source": [
        "We import other modules to be able to use their functions.  Here we import the math module and then view the help to see what functions it contains"
      ]
    },
    {
      "cell_type": "code",
      "metadata": {
        "id": "HU_y_sLdlWtw",
        "colab_type": "code",
        "outputId": "8a763464-2809-412c-c863-43c8e5814de2",
        "colab": {
          "base_uri": "https://localhost:8080/",
          "height": 1000
        }
      },
      "source": [
        "import math\n",
        "help(math)"
      ],
      "execution_count": 0,
      "outputs": [
        {
          "output_type": "stream",
          "text": [
            "Help on built-in module math:\n",
            "\n",
            "NAME\n",
            "    math\n",
            "\n",
            "DESCRIPTION\n",
            "    This module is always available.  It provides access to the\n",
            "    mathematical functions defined by the C standard.\n",
            "\n",
            "FUNCTIONS\n",
            "    acos(...)\n",
            "        acos(x)\n",
            "        \n",
            "        Return the arc cosine (measured in radians) of x.\n",
            "    \n",
            "    acosh(...)\n",
            "        acosh(x)\n",
            "        \n",
            "        Return the inverse hyperbolic cosine of x.\n",
            "    \n",
            "    asin(...)\n",
            "        asin(x)\n",
            "        \n",
            "        Return the arc sine (measured in radians) of x.\n",
            "    \n",
            "    asinh(...)\n",
            "        asinh(x)\n",
            "        \n",
            "        Return the inverse hyperbolic sine of x.\n",
            "    \n",
            "    atan(...)\n",
            "        atan(x)\n",
            "        \n",
            "        Return the arc tangent (measured in radians) of x.\n",
            "    \n",
            "    atan2(...)\n",
            "        atan2(y, x)\n",
            "        \n",
            "        Return the arc tangent (measured in radians) of y/x.\n",
            "        Unlike atan(y/x), the signs of both x and y are considered.\n",
            "    \n",
            "    atanh(...)\n",
            "        atanh(x)\n",
            "        \n",
            "        Return the inverse hyperbolic tangent of x.\n",
            "    \n",
            "    ceil(...)\n",
            "        ceil(x)\n",
            "        \n",
            "        Return the ceiling of x as an Integral.\n",
            "        This is the smallest integer >= x.\n",
            "    \n",
            "    copysign(...)\n",
            "        copysign(x, y)\n",
            "        \n",
            "        Return a float with the magnitude (absolute value) of x but the sign \n",
            "        of y. On platforms that support signed zeros, copysign(1.0, -0.0) \n",
            "        returns -1.0.\n",
            "    \n",
            "    cos(...)\n",
            "        cos(x)\n",
            "        \n",
            "        Return the cosine of x (measured in radians).\n",
            "    \n",
            "    cosh(...)\n",
            "        cosh(x)\n",
            "        \n",
            "        Return the hyperbolic cosine of x.\n",
            "    \n",
            "    degrees(...)\n",
            "        degrees(x)\n",
            "        \n",
            "        Convert angle x from radians to degrees.\n",
            "    \n",
            "    erf(...)\n",
            "        erf(x)\n",
            "        \n",
            "        Error function at x.\n",
            "    \n",
            "    erfc(...)\n",
            "        erfc(x)\n",
            "        \n",
            "        Complementary error function at x.\n",
            "    \n",
            "    exp(...)\n",
            "        exp(x)\n",
            "        \n",
            "        Return e raised to the power of x.\n",
            "    \n",
            "    expm1(...)\n",
            "        expm1(x)\n",
            "        \n",
            "        Return exp(x)-1.\n",
            "        This function avoids the loss of precision involved in the direct evaluation of exp(x)-1 for small x.\n",
            "    \n",
            "    fabs(...)\n",
            "        fabs(x)\n",
            "        \n",
            "        Return the absolute value of the float x.\n",
            "    \n",
            "    factorial(...)\n",
            "        factorial(x) -> Integral\n",
            "        \n",
            "        Find x!. Raise a ValueError if x is negative or non-integral.\n",
            "    \n",
            "    floor(...)\n",
            "        floor(x)\n",
            "        \n",
            "        Return the floor of x as an Integral.\n",
            "        This is the largest integer <= x.\n",
            "    \n",
            "    fmod(...)\n",
            "        fmod(x, y)\n",
            "        \n",
            "        Return fmod(x, y), according to platform C.  x % y may differ.\n",
            "    \n",
            "    frexp(...)\n",
            "        frexp(x)\n",
            "        \n",
            "        Return the mantissa and exponent of x, as pair (m, e).\n",
            "        m is a float and e is an int, such that x = m * 2.**e.\n",
            "        If x is 0, m and e are both 0.  Else 0.5 <= abs(m) < 1.0.\n",
            "    \n",
            "    fsum(...)\n",
            "        fsum(iterable)\n",
            "        \n",
            "        Return an accurate floating point sum of values in the iterable.\n",
            "        Assumes IEEE-754 floating point arithmetic.\n",
            "    \n",
            "    gamma(...)\n",
            "        gamma(x)\n",
            "        \n",
            "        Gamma function at x.\n",
            "    \n",
            "    gcd(...)\n",
            "        gcd(x, y) -> int\n",
            "        greatest common divisor of x and y\n",
            "    \n",
            "    hypot(...)\n",
            "        hypot(x, y)\n",
            "        \n",
            "        Return the Euclidean distance, sqrt(x*x + y*y).\n",
            "    \n",
            "    isclose(...)\n",
            "        isclose(a, b, *, rel_tol=1e-09, abs_tol=0.0) -> bool\n",
            "        \n",
            "        Determine whether two floating point numbers are close in value.\n",
            "        \n",
            "           rel_tol\n",
            "               maximum difference for being considered \"close\", relative to the\n",
            "               magnitude of the input values\n",
            "            abs_tol\n",
            "               maximum difference for being considered \"close\", regardless of the\n",
            "               magnitude of the input values\n",
            "        \n",
            "        Return True if a is close in value to b, and False otherwise.\n",
            "        \n",
            "        For the values to be considered close, the difference between them\n",
            "        must be smaller than at least one of the tolerances.\n",
            "        \n",
            "        -inf, inf and NaN behave similarly to the IEEE 754 Standard.  That\n",
            "        is, NaN is not close to anything, even itself.  inf and -inf are\n",
            "        only close to themselves.\n",
            "    \n",
            "    isfinite(...)\n",
            "        isfinite(x) -> bool\n",
            "        \n",
            "        Return True if x is neither an infinity nor a NaN, and False otherwise.\n",
            "    \n",
            "    isinf(...)\n",
            "        isinf(x) -> bool\n",
            "        \n",
            "        Return True if x is a positive or negative infinity, and False otherwise.\n",
            "    \n",
            "    isnan(...)\n",
            "        isnan(x) -> bool\n",
            "        \n",
            "        Return True if x is a NaN (not a number), and False otherwise.\n",
            "    \n",
            "    ldexp(...)\n",
            "        ldexp(x, i)\n",
            "        \n",
            "        Return x * (2**i).\n",
            "    \n",
            "    lgamma(...)\n",
            "        lgamma(x)\n",
            "        \n",
            "        Natural logarithm of absolute value of Gamma function at x.\n",
            "    \n",
            "    log(...)\n",
            "        log(x[, base])\n",
            "        \n",
            "        Return the logarithm of x to the given base.\n",
            "        If the base not specified, returns the natural logarithm (base e) of x.\n",
            "    \n",
            "    log10(...)\n",
            "        log10(x)\n",
            "        \n",
            "        Return the base 10 logarithm of x.\n",
            "    \n",
            "    log1p(...)\n",
            "        log1p(x)\n",
            "        \n",
            "        Return the natural logarithm of 1+x (base e).\n",
            "        The result is computed in a way which is accurate for x near zero.\n",
            "    \n",
            "    log2(...)\n",
            "        log2(x)\n",
            "        \n",
            "        Return the base 2 logarithm of x.\n",
            "    \n",
            "    modf(...)\n",
            "        modf(x)\n",
            "        \n",
            "        Return the fractional and integer parts of x.  Both results carry the sign\n",
            "        of x and are floats.\n",
            "    \n",
            "    pow(...)\n",
            "        pow(x, y)\n",
            "        \n",
            "        Return x**y (x to the power of y).\n",
            "    \n",
            "    radians(...)\n",
            "        radians(x)\n",
            "        \n",
            "        Convert angle x from degrees to radians.\n",
            "    \n",
            "    sin(...)\n",
            "        sin(x)\n",
            "        \n",
            "        Return the sine of x (measured in radians).\n",
            "    \n",
            "    sinh(...)\n",
            "        sinh(x)\n",
            "        \n",
            "        Return the hyperbolic sine of x.\n",
            "    \n",
            "    sqrt(...)\n",
            "        sqrt(x)\n",
            "        \n",
            "        Return the square root of x.\n",
            "    \n",
            "    tan(...)\n",
            "        tan(x)\n",
            "        \n",
            "        Return the tangent of x (measured in radians).\n",
            "    \n",
            "    tanh(...)\n",
            "        tanh(x)\n",
            "        \n",
            "        Return the hyperbolic tangent of x.\n",
            "    \n",
            "    trunc(...)\n",
            "        trunc(x:Real) -> Integral\n",
            "        \n",
            "        Truncates x to the nearest Integral toward 0. Uses the __trunc__ magic method.\n",
            "\n",
            "DATA\n",
            "    e = 2.718281828459045\n",
            "    inf = inf\n",
            "    nan = nan\n",
            "    pi = 3.141592653589793\n",
            "    tau = 6.283185307179586\n",
            "\n",
            "FILE\n",
            "    (built-in)\n",
            "\n",
            "\n"
          ],
          "name": "stdout"
        }
      ]
    },
    {
      "cell_type": "code",
      "metadata": {
        "id": "Oi_n1Wa7mI9F",
        "colab_type": "code",
        "outputId": "2f9ffe00-de6a-4566-a9d2-86bd2543b22d",
        "colab": {
          "base_uri": "https://localhost:8080/",
          "height": 51
        }
      },
      "source": [
        "import math\n",
        "print(math.sqrt(9))\n",
        "print(math.cos(3))"
      ],
      "execution_count": 0,
      "outputs": [
        {
          "output_type": "stream",
          "text": [
            "3.0\n",
            "-0.9899924966004454\n"
          ],
          "name": "stdout"
        }
      ]
    },
    {
      "cell_type": "markdown",
      "metadata": {
        "id": "gAfXli3nq7vU",
        "colab_type": "text"
      },
      "source": [
        "##Random numbers"
      ]
    },
    {
      "cell_type": "code",
      "metadata": {
        "id": "zM9HHqQQq-gv",
        "colab_type": "code",
        "outputId": "e722c98b-c269-46df-9713-5d2f1f3247e4",
        "colab": {
          "base_uri": "https://localhost:8080/",
          "height": 34
        }
      },
      "source": [
        "import random\n",
        "random.randint(0,100)#pick a number between 1 and 100"
      ],
      "execution_count": 0,
      "outputs": [
        {
          "output_type": "execute_result",
          "data": {
            "text/plain": [
              "19"
            ]
          },
          "metadata": {
            "tags": []
          },
          "execution_count": 67
        }
      ]
    },
    {
      "cell_type": "markdown",
      "metadata": {
        "id": "8tLIau6ntlYo",
        "colab_type": "text"
      },
      "source": [
        "##Guessing game"
      ]
    },
    {
      "cell_type": "code",
      "metadata": {
        "id": "NjnjSPVktneT",
        "colab_type": "code",
        "outputId": "852d5646-dd19-4c18-8f0f-d9393f7b0836",
        "colab": {
          "base_uri": "https://localhost:8080/",
          "height": 68
        }
      },
      "source": [
        "import random\n",
        "player_guess=int(input(\"Pick a number between 1 and 10: \"))\n",
        "mystery_number=random.randint(1,10)\n",
        "\n",
        "if(player_guess>mystery_number):\n",
        "    print(\"Sorry, too big\")\n",
        "    print(mystery_number)\n",
        "elif(player_guess<mystery_number):\n",
        "    print(\"Sorry too small\")\n",
        "    print(mystery_number)\n",
        "else:\n",
        "    print(\"Correct!\")"
      ],
      "execution_count": 0,
      "outputs": [
        {
          "output_type": "stream",
          "text": [
            "Pick a number between 1 and 10: 6\n",
            "Sorry, too big\n",
            "3\n"
          ],
          "name": "stdout"
        }
      ]
    },
    {
      "cell_type": "markdown",
      "metadata": {
        "id": "neMK-OTdmqqb",
        "colab_type": "text"
      },
      "source": [
        "# Loops"
      ]
    },
    {
      "cell_type": "markdown",
      "metadata": {
        "id": "5_geKFYLms_7",
        "colab_type": "text"
      },
      "source": [
        "##While Loop"
      ]
    },
    {
      "cell_type": "code",
      "metadata": {
        "id": "oYKqbqi4mvj_",
        "colab_type": "code",
        "outputId": "385c0d77-6fe6-4cb3-b971-257ff9530f3b",
        "colab": {
          "base_uri": "https://localhost:8080/",
          "height": 68
        }
      },
      "source": [
        "a=0\n",
        "while(a<3):\n",
        "  print(\"Loop: \" + str(a))\n",
        "  a=a+1"
      ],
      "execution_count": 0,
      "outputs": [
        {
          "output_type": "stream",
          "text": [
            "Loop: 0\n",
            "Loop: 1\n",
            "Loop: 2\n"
          ],
          "name": "stdout"
        }
      ]
    },
    {
      "cell_type": "markdown",
      "metadata": {
        "id": "FVSb3AIkoP6Z",
        "colab_type": "text"
      },
      "source": [
        "###Infinite Loops"
      ]
    },
    {
      "cell_type": "markdown",
      "metadata": {
        "id": "IhvwILmTnTwo",
        "colab_type": "text"
      },
      "source": [
        "Always make sure to never create infinite loops.  I have the below loop commented out so it will not run.  Since the result will always be true there is no way for the loop to end and thus will run \"infinitely\""
      ]
    },
    {
      "cell_type": "code",
      "metadata": {
        "id": "pyTaZkAFne8G",
        "colab_type": "code",
        "colab": {}
      },
      "source": [
        "#while(1=1):\n",
        "  #print(a)"
      ],
      "execution_count": 0,
      "outputs": []
    },
    {
      "cell_type": "code",
      "metadata": {
        "id": "H1jYKwxAvV8T",
        "colab_type": "code",
        "outputId": "de720905-d27c-4e5f-ff59-bd8cdf26294b",
        "colab": {
          "base_uri": "https://localhost:8080/",
          "height": 34
        }
      },
      "source": [
        "i=0\n",
        "sum=0\n",
        "while(i<100):\n",
        "  sum=sum+i\n",
        "  i=i+1\n",
        "print(sum)"
      ],
      "execution_count": 0,
      "outputs": [
        {
          "output_type": "stream",
          "text": [
            "4950\n"
          ],
          "name": "stdout"
        }
      ]
    },
    {
      "cell_type": "markdown",
      "metadata": {
        "id": "yIWq2TuBwAX1",
        "colab_type": "text"
      },
      "source": [
        "##For Loop"
      ]
    },
    {
      "cell_type": "code",
      "metadata": {
        "id": "FBo8oK8pwDX-",
        "colab_type": "code",
        "outputId": "b5e76934-5fa7-462e-d77e-f15eee83be0c",
        "colab": {
          "base_uri": "https://localhost:8080/",
          "height": 85
        }
      },
      "source": [
        "fruits=[\"apple\",\"orange\",\"watermelon\",\"kiwi\"]\n",
        "\n",
        "for fruit in fruits:\n",
        "  print(fruit)"
      ],
      "execution_count": 0,
      "outputs": [
        {
          "output_type": "stream",
          "text": [
            "apple\n",
            "orange\n",
            "watermelon\n",
            "kiwi\n"
          ],
          "name": "stdout"
        }
      ]
    },
    {
      "cell_type": "markdown",
      "metadata": {
        "id": "v5q2dFDtpfw3",
        "colab_type": "text"
      },
      "source": [
        "#Nesting "
      ]
    },
    {
      "cell_type": "code",
      "metadata": {
        "id": "_6Uu1RsDpkwR",
        "colab_type": "code",
        "outputId": "cc2d42de-8111-44a3-ef12-d7f13c3bccfe",
        "colab": {
          "base_uri": "https://localhost:8080/",
          "height": 85
        }
      },
      "source": [
        "x=0\n",
        "while(x<3):\n",
        "  print(\"Loop\")\n",
        "  if(x==1):\n",
        "    print(x)\n",
        "  x=x+1"
      ],
      "execution_count": 0,
      "outputs": [
        {
          "output_type": "stream",
          "text": [
            "Loop\n",
            "Loop\n",
            "1\n",
            "Loop\n"
          ],
          "name": "stdout"
        }
      ]
    },
    {
      "cell_type": "markdown",
      "metadata": {
        "id": "_OGQ5Cy6vtgV",
        "colab_type": "text"
      },
      "source": [
        "##Break"
      ]
    },
    {
      "cell_type": "code",
      "metadata": {
        "id": "-PAKf7Slvwc3",
        "colab_type": "code",
        "outputId": "131dd9c5-6f47-490d-b29e-8835bb26a6f1",
        "colab": {
          "base_uri": "https://localhost:8080/",
          "height": 34
        }
      },
      "source": [
        "i=0\n",
        "\n",
        "while(i<5):\n",
        "  i=i+1\n",
        "  if(i==2):\n",
        "    break\n",
        "\n",
        "print(i)"
      ],
      "execution_count": 0,
      "outputs": [
        {
          "output_type": "stream",
          "text": [
            "2\n"
          ],
          "name": "stdout"
        }
      ]
    },
    {
      "cell_type": "markdown",
      "metadata": {
        "id": "rMYmwP_bwMQD",
        "colab_type": "text"
      },
      "source": [
        "#Continue"
      ]
    },
    {
      "cell_type": "code",
      "metadata": {
        "id": "fxnvXNcuwO5x",
        "colab_type": "code",
        "outputId": "37f197d9-f32b-4fba-f277-199ba3e78af7",
        "colab": {
          "base_uri": "https://localhost:8080/",
          "height": 85
        }
      },
      "source": [
        "i=0\n",
        "\n",
        "while(i<5):  \n",
        "  i=i+1\n",
        "  if(i==2):\n",
        "    continue\n",
        "  print(i)\n",
        "\n"
      ],
      "execution_count": 0,
      "outputs": [
        {
          "output_type": "stream",
          "text": [
            "1\n",
            "3\n",
            "4\n",
            "5\n"
          ],
          "name": "stdout"
        }
      ]
    },
    {
      "cell_type": "markdown",
      "metadata": {
        "id": "9605wVcGwmHA",
        "colab_type": "text"
      },
      "source": [
        "#Lists"
      ]
    },
    {
      "cell_type": "code",
      "metadata": {
        "id": "zxVZ6t3DwnW-",
        "colab_type": "code",
        "outputId": "5048ce0d-ba10-4179-8383-0b3b8c308f11",
        "colab": {
          "base_uri": "https://localhost:8080/",
          "height": 68
        }
      },
      "source": [
        "list=[1,2,3,4]\n",
        "print(type(list))\n",
        "print(list[0])\n",
        "print(list)"
      ],
      "execution_count": 0,
      "outputs": [
        {
          "output_type": "stream",
          "text": [
            "<class 'list'>\n",
            "1\n",
            "[1, 2, 3, 4]\n"
          ],
          "name": "stdout"
        }
      ]
    },
    {
      "cell_type": "code",
      "metadata": {
        "id": "1Lhi5SpSGpWQ",
        "colab_type": "code",
        "outputId": "be2fa235-a0f0-4482-8744-ff0686db1a9f",
        "colab": {
          "base_uri": "https://localhost:8080/",
          "height": 163
        }
      },
      "source": [
        "list[4] #0,1,2,3"
      ],
      "execution_count": 0,
      "outputs": [
        {
          "output_type": "error",
          "ename": "IndexError",
          "evalue": "ignored",
          "traceback": [
            "\u001b[0;31m---------------------------------------------------------------------------\u001b[0m",
            "\u001b[0;31mIndexError\u001b[0m                                Traceback (most recent call last)",
            "\u001b[0;32m<ipython-input-83-853c8927f3be>\u001b[0m in \u001b[0;36m<module>\u001b[0;34m()\u001b[0m\n\u001b[0;32m----> 1\u001b[0;31m \u001b[0mlist\u001b[0m\u001b[0;34m[\u001b[0m\u001b[0;36m4\u001b[0m\u001b[0;34m]\u001b[0m\u001b[0;34m\u001b[0m\u001b[0;34m\u001b[0m\u001b[0m\n\u001b[0m",
            "\u001b[0;31mIndexError\u001b[0m: list index out of range"
          ]
        }
      ]
    },
    {
      "cell_type": "code",
      "metadata": {
        "id": "rNERtK_KG67p",
        "colab_type": "code",
        "outputId": "ba46ee56-24b0-40d3-ce21-017880751dde",
        "colab": {
          "base_uri": "https://localhost:8080/",
          "height": 34
        }
      },
      "source": [
        "len(list)"
      ],
      "execution_count": 0,
      "outputs": [
        {
          "output_type": "execute_result",
          "data": {
            "text/plain": [
              "4"
            ]
          },
          "metadata": {
            "tags": []
          },
          "execution_count": 85
        }
      ]
    },
    {
      "cell_type": "code",
      "metadata": {
        "id": "42C1UOSGHAhF",
        "colab_type": "code",
        "outputId": "33ab4f07-07be-4810-9f1d-820881501edf",
        "colab": {
          "base_uri": "https://localhost:8080/",
          "height": 85
        }
      },
      "source": [
        "i=0\n",
        "while(i<len(list)):\n",
        "  print(list[i])\n",
        "  i=i+1"
      ],
      "execution_count": 0,
      "outputs": [
        {
          "output_type": "stream",
          "text": [
            "1\n",
            "2\n",
            "3\n",
            "4\n"
          ],
          "name": "stdout"
        }
      ]
    },
    {
      "cell_type": "code",
      "metadata": {
        "id": "abLttAIjHsDh",
        "colab_type": "code",
        "outputId": "895cca6a-6ce1-412e-87c3-9aa62b3ee592",
        "colab": {
          "base_uri": "https://localhost:8080/",
          "height": 34
        }
      },
      "source": [
        "max(list)"
      ],
      "execution_count": 0,
      "outputs": [
        {
          "output_type": "execute_result",
          "data": {
            "text/plain": [
              "4"
            ]
          },
          "metadata": {
            "tags": []
          },
          "execution_count": 89
        }
      ]
    },
    {
      "cell_type": "code",
      "metadata": {
        "id": "41aKKfaAHvby",
        "colab_type": "code",
        "outputId": "da7f7e59-63ee-48cb-be72-39488d148bc4",
        "colab": {
          "base_uri": "https://localhost:8080/",
          "height": 34
        }
      },
      "source": [
        "min(list)"
      ],
      "execution_count": 0,
      "outputs": [
        {
          "output_type": "execute_result",
          "data": {
            "text/plain": [
              "1"
            ]
          },
          "metadata": {
            "tags": []
          },
          "execution_count": 90
        }
      ]
    },
    {
      "cell_type": "code",
      "metadata": {
        "id": "YeeGaBpiI0Qo",
        "colab_type": "code",
        "outputId": "cda46e97-a21f-4eec-8e5b-253ef6a78d4b",
        "colab": {
          "base_uri": "https://localhost:8080/",
          "height": 34
        }
      },
      "source": [
        "word_list=[\"red\", \"green\", \"blue\"]\n",
        "print(word_list[1])"
      ],
      "execution_count": 0,
      "outputs": [
        {
          "output_type": "stream",
          "text": [
            "green\n"
          ],
          "name": "stdout"
        }
      ]
    },
    {
      "cell_type": "code",
      "metadata": {
        "id": "FAeB2ezjqxtf",
        "colab_type": "code",
        "outputId": "423926a8-64e0-4509-c870-5783f23b4b7d",
        "colab": {
          "base_uri": "https://localhost:8080/",
          "height": 34
        }
      },
      "source": [
        "list1=[1,2]\n",
        "list1.append(3)\n",
        "print(list1)"
      ],
      "execution_count": 0,
      "outputs": [
        {
          "output_type": "stream",
          "text": [
            "[1, 2, 3]\n"
          ],
          "name": "stdout"
        }
      ]
    },
    {
      "cell_type": "code",
      "metadata": {
        "id": "R1x0cMRUrKVJ",
        "colab_type": "code",
        "outputId": "d7b102f1-b15d-4bfb-eb75-ec05f61359bd",
        "colab": {
          "base_uri": "https://localhost:8080/",
          "height": 34
        }
      },
      "source": [
        "list1=[1,2,3]\n",
        "list2=[4,5]\n",
        "list1=list1+list2\n",
        "print(list1)"
      ],
      "execution_count": 0,
      "outputs": [
        {
          "output_type": "stream",
          "text": [
            "[1, 2, 3, 4, 5]\n"
          ],
          "name": "stdout"
        }
      ]
    },
    {
      "cell_type": "markdown",
      "metadata": {
        "id": "W33m-p6urwWn",
        "colab_type": "text"
      },
      "source": [
        "##Multidimensional\n"
      ]
    },
    {
      "cell_type": "code",
      "metadata": {
        "id": "KERcM386rvoa",
        "colab_type": "code",
        "outputId": "b5f16c7b-1fef-4079-f543-c26b85e9ef8c",
        "colab": {
          "base_uri": "https://localhost:8080/",
          "height": 51
        }
      },
      "source": [
        "list1=[[\"a\",1], [\"b\",2],[\"c\",3]]\n",
        "print(list1[2])\n",
        "print(list1[0][0])\n"
      ],
      "execution_count": 0,
      "outputs": [
        {
          "output_type": "stream",
          "text": [
            "['c', 3]\n",
            "a\n"
          ],
          "name": "stdout"
        }
      ]
    },
    {
      "cell_type": "code",
      "metadata": {
        "id": "lOWkpDFrw5sD",
        "colab_type": "code",
        "outputId": "fdb7f137-019c-45f5-c99d-b40383d0cad3",
        "colab": {
          "base_uri": "https://localhost:8080/",
          "height": 34
        }
      },
      "source": [
        "list=[1,[1,2],[1,[2,3]]]\n",
        "list"
      ],
      "execution_count": 0,
      "outputs": [
        {
          "output_type": "execute_result",
          "data": {
            "text/plain": [
              "[1, [1, 2], [1, [2, 3]]]"
            ]
          },
          "metadata": {
            "tags": []
          },
          "execution_count": 131
        }
      ]
    },
    {
      "cell_type": "markdown",
      "metadata": {
        "id": "yScR-zPjuQOQ",
        "colab_type": "text"
      },
      "source": [
        "##Copy"
      ]
    },
    {
      "cell_type": "code",
      "metadata": {
        "id": "i69mI0FMtn79",
        "colab_type": "code",
        "outputId": "49d502b6-34d4-4682-8be2-df9645283c46",
        "colab": {
          "base_uri": "https://localhost:8080/",
          "height": 51
        }
      },
      "source": [
        "list=[0,1,2,3,4,5]\n",
        "list2=list1.copy()\n",
        "list.clear()\n",
        "print(list)\n",
        "print(list2)"
      ],
      "execution_count": 0,
      "outputs": [
        {
          "output_type": "stream",
          "text": [
            "[]\n",
            "[['a', 1], ['b', 2], ['c', 3]]\n"
          ],
          "name": "stdout"
        }
      ]
    },
    {
      "cell_type": "markdown",
      "metadata": {
        "id": "xqmEdLTdue-J",
        "colab_type": "text"
      },
      "source": [
        "##Clear"
      ]
    },
    {
      "cell_type": "code",
      "metadata": {
        "colab_type": "code",
        "outputId": "49d502b6-34d4-4682-8be2-df9645283c46",
        "id": "C1ZYwHhrudPg",
        "colab": {
          "base_uri": "https://localhost:8080/",
          "height": 51
        }
      },
      "source": [
        "list=[0,1,2,3,4,5]\n",
        "list2=list1.copy()\n",
        "list.clear()\n",
        "print(list)\n",
        "print(list2)"
      ],
      "execution_count": 0,
      "outputs": [
        {
          "output_type": "stream",
          "text": [
            "[]\n",
            "[['a', 1], ['b', 2], ['c', 3]]\n"
          ],
          "name": "stdout"
        }
      ]
    },
    {
      "cell_type": "markdown",
      "metadata": {
        "id": "Z_Pu4Vynulww",
        "colab_type": "text"
      },
      "source": [
        "##Sort"
      ]
    },
    {
      "cell_type": "code",
      "metadata": {
        "id": "RdXge9acunLi",
        "colab_type": "code",
        "outputId": "00dd6add-562b-48b6-8848-a8e0d1b6c7e8",
        "colab": {
          "base_uri": "https://localhost:8080/",
          "height": 34
        }
      },
      "source": [
        "list=[9,4,3,4,3,6,1,2,0]\n",
        "list.sort()\n",
        "print(list)\n"
      ],
      "execution_count": 0,
      "outputs": [
        {
          "output_type": "stream",
          "text": [
            "[0, 1, 2, 3, 3, 4, 4, 6, 9]\n"
          ],
          "name": "stdout"
        }
      ]
    },
    {
      "cell_type": "markdown",
      "metadata": {
        "id": "Or_4cNT9u455",
        "colab_type": "text"
      },
      "source": [
        "##Reverse"
      ]
    },
    {
      "cell_type": "code",
      "metadata": {
        "id": "QyK43MVQu0XU",
        "colab_type": "code",
        "outputId": "eb353f29-d32b-42b9-efa3-89457f925cae",
        "colab": {
          "base_uri": "https://localhost:8080/",
          "height": 34
        }
      },
      "source": [
        "list=[9,4,3,4,3,6,1,2,0]\n",
        "list.reverse()\n",
        "print(list)"
      ],
      "execution_count": 0,
      "outputs": [
        {
          "output_type": "stream",
          "text": [
            "[0, 2, 1, 6, 3, 4, 3, 4, 9]\n"
          ],
          "name": "stdout"
        }
      ]
    },
    {
      "cell_type": "markdown",
      "metadata": {
        "id": "gGof7W3pIWXa",
        "colab_type": "text"
      },
      "source": [
        "#Statistics"
      ]
    },
    {
      "cell_type": "code",
      "metadata": {
        "id": "IxgdIRwLHz_W",
        "colab_type": "code",
        "outputId": "2f5a6279-726d-412f-8232-c9507df7f741",
        "colab": {
          "base_uri": "https://localhost:8080/",
          "height": 34
        }
      },
      "source": [
        "import statistics\n",
        "statistics.median(list)"
      ],
      "execution_count": 0,
      "outputs": [
        {
          "output_type": "execute_result",
          "data": {
            "text/plain": [
              "2.5"
            ]
          },
          "metadata": {
            "tags": []
          },
          "execution_count": 96
        }
      ]
    },
    {
      "cell_type": "markdown",
      "metadata": {
        "id": "oNbCWISFxdH-",
        "colab_type": "text"
      },
      "source": [
        "#Strings"
      ]
    },
    {
      "cell_type": "markdown",
      "metadata": {
        "id": "lJ8sKn21zZ7P",
        "colab_type": "text"
      },
      "source": [
        "##Find"
      ]
    },
    {
      "cell_type": "code",
      "metadata": {
        "id": "Tehl_iGmxebe",
        "colab_type": "code",
        "outputId": "d907be74-9ccc-4862-c983-3d5506532b40",
        "colab": {
          "base_uri": "https://localhost:8080/",
          "height": 34
        }
      },
      "source": [
        "my_story=\"Once upon a time there was a ...\"\n",
        "my_story.find('t')"
      ],
      "execution_count": 0,
      "outputs": [
        {
          "output_type": "execute_result",
          "data": {
            "text/plain": [
              "12"
            ]
          },
          "metadata": {
            "tags": []
          },
          "execution_count": 133
        }
      ]
    },
    {
      "cell_type": "markdown",
      "metadata": {
        "id": "kUosXRJ9zXfQ",
        "colab_type": "text"
      },
      "source": [
        "##Slicing"
      ]
    },
    {
      "cell_type": "code",
      "metadata": {
        "id": "H05De_W9y6kc",
        "colab_type": "code",
        "outputId": "e8902dd9-cacd-4dea-8957-5941f7baedc3",
        "colab": {
          "base_uri": "https://localhost:8080/",
          "height": 34
        }
      },
      "source": [
        "print(my_story[12:16])"
      ],
      "execution_count": 0,
      "outputs": [
        {
          "output_type": "stream",
          "text": [
            "time\n"
          ],
          "name": "stdout"
        }
      ]
    },
    {
      "cell_type": "markdown",
      "metadata": {
        "id": "7B7GxoMpzpKj",
        "colab_type": "text"
      },
      "source": [
        "##Split"
      ]
    },
    {
      "cell_type": "code",
      "metadata": {
        "id": "LMR6sj0Czqc9",
        "colab_type": "code",
        "outputId": "3b803b29-75f4-4316-e37c-a10005334ee8",
        "colab": {
          "base_uri": "https://localhost:8080/",
          "height": 34
        }
      },
      "source": [
        "my_story.split()"
      ],
      "execution_count": 0,
      "outputs": [
        {
          "output_type": "execute_result",
          "data": {
            "text/plain": [
              "['Once', 'upon', 'a', 'time', 'there', 'was', 'a', '...']"
            ]
          },
          "metadata": {
            "tags": []
          },
          "execution_count": 138
        }
      ]
    },
    {
      "cell_type": "markdown",
      "metadata": {
        "id": "sN2Bk7B8z-8S",
        "colab_type": "text"
      },
      "source": [
        "#Working with files"
      ]
    },
    {
      "cell_type": "code",
      "metadata": {
        "id": "2eL-BmjG0A6d",
        "colab_type": "code",
        "outputId": "7bd03bae-f7d5-4148-ecc9-0f9ba6dc2096",
        "colab": {
          "base_uri": "https://localhost:8080/",
          "height": 683
        }
      },
      "source": [
        "import urllib\n",
        "url = \"https://raw.githubusercontent.com/dbach787/SampleData/master/DummyText.txt\"\n",
        "file = urllib.request.urlopen(url)\n",
        "\n",
        "for line in file:\n",
        "\tdecoded_line = line.decode(\"utf-8\")\n",
        "\tprint(decoded_line)\n"
      ],
      "execution_count": 0,
      "outputs": [
        {
          "output_type": "stream",
          "text": [
            "Lorem ipsum dolor sit amet, consectetur adipiscing elit. Sed pretium quam id enim vehicula dignissim. Donec porttitor dui vitae lectus rhoncus placerat. Etiam molestie consectetur porttitor. Sed et mi euismod augue imperdiet ultricies et id nisi. Phasellus posuere ante orci. Donec tincidunt nibh id neque rhoncus fermentum. Praesent non lacus sit amet est accumsan tincidunt tincidunt vel mi. Quisque tristique fermentum magna, ac consectetur arcu laoreet at. Nulla congue volutpat massa sit amet pulvinar. Mauris eleifend, orci finibus semper pharetra, magna erat lobortis metus, eget consequat augue risus ut purus.\n",
            "\n",
            "\n",
            "\n",
            "Nulla maximus nunc et scelerisque faucibus. Quisque faucibus arcu eu tortor porta, ut sodales lectus condimentum. Phasellus imperdiet urna quis rutrum lacinia. Ut vestibulum posuere nibh eget fringilla. Phasellus porta ex massa, vitae pulvinar orci auctor in. Nam in fringilla eros, ut finibus nisl. Aliquam erat volutpat. Mauris non maximus purus, eget placerat libero. Mauris congue ullamcorper rhoncus. Cras sapien ante, viverra vitae volutpat at, condimentum scelerisque odio.\n",
            "\n",
            "\n",
            "\n",
            "Nam vel consequat tortor. Nam eget posuere sapien, et sagittis purus. Donec a quam eu ipsum ultricies condimentum. Nulla sit amet urna gravida, rutrum metus et, rutrum sem. Nulla quis lectus non ipsum accumsan porttitor id sed ipsum. Vestibulum tincidunt imperdiet porta. Vivamus imperdiet erat in dolor congue scelerisque. Cras a dolor eget lectus fermentum lacinia ut vitae massa.\n",
            "\n",
            "\n",
            "\n",
            "Quisque nisi lectus, vehicula vitae convallis id, tristique sed magna. Aenean maximus accumsan ullamcorper. Suspendisse potenti. Aenean laoreet sem ut maximus elementum. Donec at lobortis ex. Sed in consequat mauris. Quisque condimentum risus et diam aliquet convallis. Pellentesque ultrices consequat pulvinar. Maecenas iaculis eu ligula ac tincidunt.\n",
            "\n",
            "\n",
            "\n",
            "Quisque luctus tellus arcu, ut hendrerit sem aliquet at. Phasellus metus nulla, vestibulum ac magna nec, lobortis scelerisque arcu. Nullam porta est quis euismod placerat. Maecenas pellentesque sem eget finibus faucibus. Integer posuere ante leo, egestas auctor nisl porttitor vel. Quisque auctor est a elit feugiat placerat. Mauris vehicula urna sed lorem dignissim, id finibus massa vehicula. Nam et libero convallis, dictum dolor sed, placerat ipsum. Praesent tincidunt, odio vitae dictum cursus, elit augue tincidunt leo, in congue quam quam ac nulla. Mauris vestibulum nibh velit, vitae mattis quam facilisis et. Fusce tristique, orci a placerat faucibus, ex ex porta elit, sit amet lacinia magna lorem id erat. Phasellus euismod odio eu enim finibus, eu sodales sem scelerisque. Pellentesque quis libero malesuada, varius ligula id, sollicitudin justo. Mauris vulputate elementum augue, sed tincidunt sem vehicula at. Fusce fringilla risus dapibus nisl ultrices, a facilisis ante aliquam. Sed eget accumsan metus.\n",
            "\n",
            "\n",
            "\n",
            "Maecenas interdum pretium placerat. Praesent in lectus ex. Integer vestibulum gravida eros, hendrerit egestas ex auctor quis. Mauris maximus sapien sem, eu auctor velit pharetra nec. Pellentesque ut augue sit amet urna cursus fermentum. Vivamus et libero tortor. In luctus odio in mi elementum vestibulum. Cras efficitur, libero vel feugiat faucibus, metus lacus scelerisque tellus, eget elementum lacus est vitae est. Nulla gravida nibh condimentum nisl aliquam, eu tristique purus iaculis. Sed tincidunt est tortor, non porttitor lacus imperdiet eget. Donec aliquet vitae neque sed auctor. Vestibulum mattis blandit sagittis. In dictum risus nec magna volutpat commodo. Nam at diam eget risus sollicitudin tempor id in odio. Aenean at aliquet orci, ac volutpat est. Nullam id nisi nec lectus auctor pharetra.\n",
            "\n",
            "\n",
            "\n",
            "In et odio a sapien consectetur fermentum eu vel sapien. Donec eget libero aliquam, maximus dolor nec, mollis lacus. In hac habitasse platea dictumst. Integer molestie libero ac elementum euismod. Donec commodo erat in commodo eleifend. Fusce aliquam semper mi, a aliquam nisl. Nunc justo ligula, hendrerit vel mi non, congue feugiat nunc. Maecenas orci neque, congue rutrum neque non, gravida egestas lorem. Nam gravida tincidunt elementum. Class aptent taciti sociosqu ad litora torquent per conubia nostra, per inceptos himenaeos.\n",
            "\n",
            "\n",
            "\n",
            "Maecenas a lorem tincidunt, hendrerit elit id, interdum est. Proin malesuada eu lectus ac sollicitudin. Quisque justo leo, mattis eu felis eget, tincidunt imperdiet ex. In hac habitasse platea dictumst. Aenean varius tempor interdum. Sed nibh libero, vehicula eget leo ac, porttitor consequat quam. Suspendisse potenti. Curabitur commodo augue id urna tristique, faucibus interdum mauris scelerisque. Nullam fringilla imperdiet venenatis.\n",
            "\n",
            "\n",
            "\n",
            "Cras rhoncus commodo magna, eu hendrerit arcu rhoncus ac. Curabitur vitae magna quis orci elementum ultrices. Suspendisse vitae faucibus mi. Pellentesque odio odio, pellentesque vitae magna et, posuere semper mauris. Phasellus ac elit sem. Nam tempor lacus ut nisl consectetur, vel egestas est gravida. Sed pretium commodo turpis, nec porta libero viverra tincidunt. Donec nisl quam, condimentum quis erat et, interdum cursus magna. Proin iaculis et lorem vitae condimentum. Morbi vitae odio fringilla, posuere lectus at, sagittis nulla.\n",
            "\n",
            "\n",
            "\n",
            "Orci varius natoque penatibus et magnis dis parturient montes, nascetur ridiculus mus. In sed facilisis nulla. Curabitur id ex accumsan, imperdiet augue vel, ornare neque. Suspendisse placerat, massa in pretium pretium, ex nunc eleifend ipsum, at elementum arcu justo non odio. Nam facilisis ullamcorper turpis, sed pharetra metus congue vel. Fusce risus urna, pellentesque vitae nunc in, semper tempor odio. Nam eros odio, elementum a nisi ut, mollis placerat lectus. Vivamus scelerisque eros eu consequat rutrum. Nullam venenatis, sem non pretium scelerisque, nisi massa accumsan quam, ac fringilla erat eros nec nisl. Nam non elit faucibus, condimentum mi sit amet, egestas neque. Sed augue lorem, pulvinar sed auctor vitae, suscipit nec tellus.\n",
            "\n"
          ],
          "name": "stdout"
        }
      ]
    },
    {
      "cell_type": "markdown",
      "metadata": {
        "id": "md0sR9is4dwB",
        "colab_type": "text"
      },
      "source": [
        "#Dictionaries"
      ]
    },
    {
      "cell_type": "markdown",
      "metadata": {
        "id": "9Ad1Fr9K4fnU",
        "colab_type": "text"
      },
      "source": [
        "#Sets"
      ]
    },
    {
      "cell_type": "markdown",
      "metadata": {
        "id": "Qn8T1owm4nbi",
        "colab_type": "text"
      },
      "source": [
        "#Exceptions"
      ]
    },
    {
      "cell_type": "markdown",
      "metadata": {
        "id": "Bdb7FAi34yfa",
        "colab_type": "text"
      },
      "source": [
        "#Namespaces"
      ]
    },
    {
      "cell_type": "markdown",
      "metadata": {
        "id": "D5xPlVLu40B0",
        "colab_type": "text"
      },
      "source": [
        "#Classes"
      ]
    },
    {
      "cell_type": "code",
      "metadata": {
        "id": "WWGhq3KJ49Hm",
        "colab_type": "code",
        "colab": {}
      },
      "source": [
        "class animal:"
      ],
      "execution_count": 0,
      "outputs": []
    },
    {
      "cell_type": "markdown",
      "metadata": {
        "id": "4yUm4yV-5Q3q",
        "colab_type": "text"
      },
      "source": [
        "##Instantiation"
      ]
    },
    {
      "cell_type": "markdown",
      "metadata": {
        "id": "-R6wELOJ5gVJ",
        "colab_type": "text"
      },
      "source": [
        "#Inheritance"
      ]
    },
    {
      "cell_type": "markdown",
      "metadata": {
        "id": "6_dEkdgR5iEG",
        "colab_type": "text"
      },
      "source": [
        ""
      ]
    },
    {
      "cell_type": "markdown",
      "metadata": {
        "id": "jDwydk4h5okX",
        "colab_type": "text"
      },
      "source": [
        "#Variable Scope"
      ]
    },
    {
      "cell_type": "markdown",
      "metadata": {
        "id": "LOML0Pc55qRo",
        "colab_type": "text"
      },
      "source": [
        ""
      ]
    }
  ]
}